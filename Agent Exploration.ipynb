{
 "cells": [
  {
   "cell_type": "code",
   "execution_count": 1,
   "id": "01bad83e-5b33-4c26-bef7-0e5725ff5478",
   "metadata": {},
   "outputs": [],
   "source": [
    "import gym\n",
    "import numpy as np\n",
    "import torch as t\n",
    "from ppo import PPO  # Make sure 'ppo.py' is in the same folder or in your Python path\n",
    "from baseline import train_ppo, test_ppo\n",
    "import matplotlib.pyplot as plt"
   ]
  },
  {
   "cell_type": "code",
   "execution_count": null,
   "id": "e045a04d-aa9b-4a59-a5b0-785329c55258",
   "metadata": {},
   "outputs": [
    {
     "name": "stderr",
     "output_type": "stream",
     "text": [
      "/home/tristongrayston/.local/lib/python3.10/site-packages/gym/envs/registration.py:563: UserWarning: \u001b[33mWARN: Using the latest versioned environment `Pendulum-v1` instead of the unversioned environment `Pendulum`.\u001b[0m\n",
      "  logger.warn(\n"
     ]
    },
    {
     "name": "stdout",
     "output_type": "stream",
     "text": [
      "actionspace: 1, obs space 3\n",
      "Learning... Running 200 timesteps per episode, 1 timesteps per batch for a total of 4000 timesteps\n"
     ]
    },
    {
     "name": "stderr",
     "output_type": "stream",
     "text": [
      "Rollout 1:   0%|                                                                               | 0/4000 [00:00<?, ?it/s]/home/tristongrayston/.local/lib/python3.10/site-packages/gym/utils/passive_env_checker.py:233: DeprecationWarning: `np.bool8` is a deprecated alias for `np.bool_`.  (Deprecated NumPy 1.24)\n",
      "  if not isinstance(terminated, (bool, np.bool8)):\n",
      "Rollout 1:  86%|███████████████████████████████████████▍      | 3424/4000 [00:40<00:07, 78.72it/s, loss=tensor(-0.0753)]"
     ]
    }
   ],
   "source": [
    "env_name = \"Pendulum\"\n",
    "agent = train_ppo(env_name)\n",
    "test_ppo(agent, env_name)\n",
    "plot_eps_rewards(agent)"
   ]
  },
  {
   "cell_type": "code",
   "execution_count": null,
   "id": "93dc1ae4-9704-46b3-a832-1f09ab23d358",
   "metadata": {},
   "outputs": [],
   "source": []
  }
 ],
 "metadata": {
  "kernelspec": {
   "display_name": "Python 3 (ipykernel)",
   "language": "python",
   "name": "python3"
  },
  "language_info": {
   "codemirror_mode": {
    "name": "ipython",
    "version": 3
   },
   "file_extension": ".py",
   "mimetype": "text/x-python",
   "name": "python",
   "nbconvert_exporter": "python",
   "pygments_lexer": "ipython3",
   "version": "3.10.12"
  }
 },
 "nbformat": 4,
 "nbformat_minor": 5
}
