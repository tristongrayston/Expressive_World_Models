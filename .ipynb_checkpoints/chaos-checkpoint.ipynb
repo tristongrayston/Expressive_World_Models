{
 "cells": [
  {
   "cell_type": "code",
   "execution_count": 1,
   "id": "e5308c34-edd5-48d0-a38f-9bceb3efeb1a",
   "metadata": {},
   "outputs": [],
   "source": [
    "import torch \n",
    "import torch.nn as nn\n",
    "import numpy as np\n",
    "import matplotlib.pyplot as plt\n",
    "import ncps \n",
    "from ncps.torch import LTC\n",
    "from ncps.torch import CfC\n",
    "from ncps.wirings import AutoNCP\n",
    "import pytorch_lightning as pl\n",
    "import torch.utils.data as data\n",
    "import seaborn as sns"
   ]
  },
  {
   "cell_type": "markdown",
   "id": "37c019c8-4b78-48a0-9bf0-e34b36aa2bb5",
   "metadata": {},
   "source": [
    "# Lorenz System, Helper Functions"
   ]
  },
  {
   "cell_type": "code",
   "execution_count": 2,
   "id": "6c2a44aa-594b-43dc-adad-8b4505c0822a",
   "metadata": {},
   "outputs": [],
   "source": [
    "initial_point = np.array([10.61098536,  5.87720862, 34.48052002])\n",
    "params = [10, 28, 8/3]\n",
    "dt = 0.001\n",
    "\n",
    "num_samples = [100_000, 20_000, 5_000]\n",
    "\n",
    "def dpdt(point, params=params): #position\n",
    "\n",
    "    x,y,z = point\n",
    "    sig, rho, beta = params\n",
    "    \n",
    "    new_x = y*dt*sig + x*(1-dt*sig)\n",
    "    new_y = x*dt*(rho-z) + y*(1-dt)\n",
    "    new_z = x*y*dt + z*(1-dt*beta)\n",
    "    return np.array([new_x, new_y, new_z])\n",
    "\n",
    "def make_lorenz_rollout(num_samples):\n",
    "    positions = []\n",
    "    positions.append(initial_point)\n",
    "\n",
    "    # your dataset\n",
    "    for _ in range(num_samples):\n",
    "        positions.append(dpdt(positions[-1]))\n",
    "\n",
    "    positions = np.stack(positions)\n",
    "\n",
    "    labels = np.sum(np.sqrt(np.square(positions[1:num_samples+1] - positions[:num_samples])), axis=1)\n",
    "\n",
    "    return positions, labels"
   ]
  },
  {
   "cell_type": "code",
   "execution_count": 3,
   "id": "054bf884-8e7c-4220-b304-7fc3d8345267",
   "metadata": {},
   "outputs": [
    {
     "name": "stdout",
     "output_type": "stream",
     "text": [
      "(20001, 3)\n"
     ]
    }
   ],
   "source": [
    "test_samples = num_samples[1]\n",
    "positions, _ = make_lorenz_rollout(test_samples)\n",
    "\n",
    "print(positions.shape)\n",
    "\n",
    "p_max = np.max(positions)\n",
    "p_min = np.min(positions)\n",
    "\n",
    "# Add noise\n",
    "#positions = positions +np.random.randn(test_samples + 1,3) * 0.1\n",
    "\n",
    "# Scale\n",
    "positions = positions/p_max # (normalize to between 1 some negative number that won't be 1) "
   ]
  },
  {
   "cell_type": "code",
   "execution_count": 4,
   "id": "4dfb2200-6bca-44db-8d87-62a1245a92b3",
   "metadata": {},
   "outputs": [
    {
     "name": "stdout",
     "output_type": "stream",
     "text": [
      "[0.24245124 0.13317744 0.7906996 ]   [0.24245124 0.13317744 0.7906996 ]\n",
      "(20000, 3)\n"
     ]
    }
   ],
   "source": [
    "data_x = positions[:test_samples]\n",
    "data_y = positions[1:test_samples+1]\n",
    "print(data_x[1], \" \", data_y[0])\n",
    "print(data_x.shape)"
   ]
  },
  {
   "cell_type": "code",
   "execution_count": 5,
   "id": "1d2df48d-5e1a-45ea-bf64-bc8338b686b1",
   "metadata": {},
   "outputs": [],
   "source": [
    "# LightningModule for training a RNNSequence module\n",
    "class SequenceLearner(pl.LightningModule):\n",
    "    def __init__(self, model, lr=0.005):\n",
    "        super().__init__()\n",
    "        self.model = model\n",
    "        self.lr = lr\n",
    "\n",
    "    def training_step(self, batch, batch_idx):\n",
    "        x, y = batch\n",
    "        y_hat, _ = self.model.forward(x)\n",
    "        y_hat = y_hat.view_as(y)\n",
    "        loss = nn.MSELoss()(y_hat, y)\n",
    "        self.log(\"train_loss\", loss, prog_bar=True)\n",
    "        return {\"loss\": loss}\n",
    "\n",
    "    def validation_step(self, batch, batch_idx):\n",
    "        x, y = batch\n",
    "        y_hat, _ = self.model.forward(x)\n",
    "        y_hat = y_hat.view_as(y)\n",
    "        loss = nn.MSELoss()(y_hat, y)\n",
    "\n",
    "        self.log(\"val_loss\", loss, prog_bar=True)\n",
    "        return loss\n",
    "\n",
    "    def test_step(self, batch, batch_idx):\n",
    "        # Here we just reuse the validation_step for testing\n",
    "        return self.validation_step(batch, batch_idx)\n",
    "\n",
    "    def configure_optimizers(self):\n",
    "        return torch.optim.Adam(self.model.parameters(), lr=self.lr)"
   ]
  },
  {
   "cell_type": "code",
   "execution_count": 1033,
   "id": "16abfe5f-75cd-4be5-aa97-e91852f3de3d",
   "metadata": {},
   "outputs": [],
   "source": [
    "class MultiStepSeqLearner(pl.LightningModule):\n",
    "    def __init__(self, model, length, lr=0.005):\n",
    "        super().__init__()\n",
    "        self.model = model\n",
    "        self.lr = lr\n",
    "        self.length = length\n",
    "\n",
    "    def training_step(self, batch, batch_idx):\n",
    "        ''' This is with the assumption that the batches will come in of something like \n",
    "        batch = (x, y) where x and y both have shape\n",
    "        shape=(batch_size, trajectory_length, input_space)'''\n",
    "        x, y = batch\n",
    "        rolling_inputs = x\n",
    "        predictions = []\n",
    "        \n",
    "        for i in range(self.length):\n",
    "            \n",
    "            prediction = self.model.forward(rolling_inputs)[0]\n",
    "                \n",
    "            predictions.append(prediction)\n",
    "            #print(prediction.unsqueeze(axis=1).shape)\n",
    "            #print(rolling_inputs.shape)\n",
    "            rolling_inputs = torch.concatenate((rolling_inputs, prediction.unsqueeze(axis=1)), axis=1)\n",
    "        \n",
    "\n",
    "        predictions = torch.stack(predictions)\n",
    "        predictions = torch.swapaxes(predictions, 0, 1)\n",
    "        #print(predictions.shape, \" \", y.shape)\n",
    "        #trajectory = trajectory.view_as(y)\n",
    "        #print(trajectory.shape)\n",
    "        loss = nn.MSELoss()(predictions, y)\n",
    "        self.log(\"train_loss\", loss, prog_bar=True)\n",
    "        return {\"loss\": loss}\n",
    "        \n",
    "            \n",
    "    def validation_step(self, batch, batch_idx):\n",
    "        x, y = batch\n",
    "        y_hat, _ = self.model.forward(x)\n",
    "        y_hat = y_hat.view_as(y)\n",
    "        loss = nn.MSELoss()(y_hat, y)\n",
    "\n",
    "        self.log(\"val_loss\", loss, prog_bar=True)\n",
    "        return loss\n",
    "\n",
    "    def test_step(self, batch, batch_idx):\n",
    "        # Here we just reuse the validation_step for testing\n",
    "        return self.validation_step(batch, batch_idx)\n",
    "\n",
    "    def configure_optimizers(self):\n",
    "        return torch.optim.Adam(self.model.parameters(), lr=self.lr)"
   ]
  },
  {
   "cell_type": "code",
   "execution_count": 1034,
   "id": "844d8021-45ac-4f63-bf15-03863d297ec2",
   "metadata": {},
   "outputs": [],
   "source": [
    "# now we have to make them into batches of sequence lengths\n",
    "x = []\n",
    "y = []\n",
    "traj_len = 5\n",
    "look_ahead = 3\n",
    "for i in range(test_samples - traj_len - look_ahead):\n",
    "    x.append(positions[i:i+traj_len])\n",
    "    y.append(positions[i+traj_len:i+traj_len+look_ahead])\n",
    "\n",
    "#print(x, y[0])\n",
    "#print(\" \")\n",
    "#print(x, y[1])\n",
    "data_x = np.stack(x)\n",
    "data_y = np.stack(y)"
   ]
  },
  {
   "cell_type": "code",
   "execution_count": 1035,
   "id": "806ac56f-5b97-4932-a0a0-e4031a6a941b",
   "metadata": {},
   "outputs": [
    {
     "name": "stdout",
     "output_type": "stream",
     "text": [
      "(19992, 5, 3)   (19992, 3, 3)\n",
      "[[0.24353771 0.13489058 0.79137863]\n",
      " [0.24245124 0.13317744 0.7906996 ]\n",
      " [0.2413585  0.13148022 0.78999791]\n",
      " [0.24025972 0.12979913 0.7892739 ]\n",
      " [0.23915512 0.12813436 0.78852793]] \n",
      " woah \n",
      "  [[0.23804491 0.12648608 0.78776035]\n",
      " [0.23692932 0.12485447 0.78697153]\n",
      " [0.23580857 0.12323968 0.78616182]] \n",
      " ahh \n",
      "  [0.23804491 0.12648608 0.78776035]\n"
     ]
    }
   ],
   "source": [
    "print(data_x.shape, \" \", data_y.shape)\n",
    "print(data_x[0, :, :], \"\\n woah \\n \", data_y[0, :, :], \"\\n ahh \\n \", data_x[1, -1, :])\n"
   ]
  },
  {
   "cell_type": "markdown",
   "id": "b4ff30d6-7e04-484e-bc88-506a72380c1a",
   "metadata": {},
   "source": [
    "# Liquid"
   ]
  },
  {
   "cell_type": "code",
   "execution_count": 1036,
   "id": "4a3b01dc-4476-4ad0-a7c3-1b7cc7cd393a",
   "metadata": {},
   "outputs": [],
   "source": [
    "from ncps.wirings import NCP\n",
    "out_features = 3\n",
    "in_features = 3\n",
    "\n",
    "#wiring = AutoNCP(6, out_features)  \n",
    "wiring = NCP(inter_neurons=6, command_neurons=5, motor_neurons=out_features,\n",
    "             sensory_fanout=4, inter_fanout=2, recurrent_command_synapses=4, motor_fanin=2)\n",
    "\n",
    "world_model = CfC(in_features, wiring, batch_first=True, return_sequences=False, activation = \"sigmoid\") # change to cfc, what could go wrong?"
   ]
  },
  {
   "cell_type": "code",
   "execution_count": 1037,
   "id": "2cc8df92-3116-4edc-ac38-5b440ccf3a32",
   "metadata": {},
   "outputs": [],
   "source": [
    "# Alternatively, make just an LTC\n",
    "#world_model = LTC(in_features, out_features, batch_first=True, return_sequences=False)"
   ]
  },
  {
   "cell_type": "markdown",
   "id": "0156cd64-9b12-4a6b-9311-ea23ff9c3c10",
   "metadata": {},
   "source": [
    "## Test if I can save the wirings and weights"
   ]
  },
  {
   "cell_type": "code",
   "execution_count": 1038,
   "id": "b3c9c054-738c-4f93-b801-42cb7eb7a974",
   "metadata": {},
   "outputs": [],
   "source": [
    "PATH = \"models/LTC_state_dict\"\n",
    "torch.save(world_model.state_dict(), PATH)\n",
    "\n",
    "adj_mat = wiring.adjacency_matrix\n",
    "sens_mat = wiring.sensory_adjacency_matrix \n",
    "\n",
    "#wm.load_state_dict(torch.load(PATH, weights_only=True))"
   ]
  },
  {
   "cell_type": "markdown",
   "id": "6390f646-48a6-4c62-9c5b-f94eb09dc3b5",
   "metadata": {},
   "source": [
    "# Visualization and Training"
   ]
  },
  {
   "cell_type": "code",
   "execution_count": 1039,
   "id": "0321fc78-f8ef-4f36-9d8f-de9273843ad9",
   "metadata": {},
   "outputs": [
    {
     "data": {
      "image/png": "[encoded data removed]",
      "text/plain": [
       "<Figure size 1000x600 with 1 Axes>"
      ]
     },
     "metadata": {},
     "output_type": "display_data"
    }
   ],
   "source": [
    "import matplotlib.pyplot as plt\n",
    "import networkx as nx\n",
    "\n",
    "# Obtain the graph from the wiring.\n",
    "G = wiring.get_graph()\n",
    "\n",
    "# Separate nodes by type.\n",
    "sensory_nodes = [node for node, data in G.nodes(data=True) if data.get(\"neuron_type\") == \"sensory\"]\n",
    "inter_nodes   = [node for node, data in G.nodes(data=True) if data.get(\"neuron_type\") == \"inter\"]\n",
    "command_nodes = [node for node, data in G.nodes(data=True) if data.get(\"neuron_type\") == \"command\"]\n",
    "motor_nodes   = [node for node, data in G.nodes(data=True) if data.get(\"neuron_type\") == \"motor\"]\n",
    "\n",
    "# Assign fixed x-coordinates for a feed-forward layout:\n",
    "# x = 0 for sensory, 2 for inter, 4 for command, and 6 for motor.\n",
    "pos = {}\n",
    "layers = [\n",
    "    (\"sensory\", sensory_nodes),\n",
    "    (\"inter\", inter_nodes),\n",
    "    (\"command\", command_nodes),\n",
    "    (\"motor\", motor_nodes)\n",
    "]\n",
    "x_spacing = 2.0  # horizontal spacing between layers\n",
    "y_spacing = 1.0  # vertical spacing within a layer\n",
    "\n",
    "for layer_index, (layer_name, nodes) in enumerate(layers):\n",
    "    x = layer_index * x_spacing\n",
    "    n = len(nodes)\n",
    "    # Evenly space nodes vertically and center them if there's more than one.\n",
    "    for i, node in enumerate(sorted(nodes)):\n",
    "        y = (i - (n - 1) / 2) * y_spacing if n > 1 else 0\n",
    "        pos[node] = (x, y)\n",
    "\n",
    "# Separate edges into non-recurrent and recurrent (command -> command) edges.\n",
    "non_recurrent_edges = []\n",
    "recurrent_edges = []\n",
    "for u, v, d in G.edges(data=True):\n",
    "    # If both source and target are command neurons, mark as recurrent.\n",
    "    if G.nodes[u][\"neuron_type\"] == \"command\" and G.nodes[v][\"neuron_type\"] == \"command\":\n",
    "        recurrent_edges.append((u, v))\n",
    "    else:\n",
    "        non_recurrent_edges.append((u, v))\n",
    "\n",
    "\n",
    "plt.figure(figsize=(10, 6))\n",
    "\n",
    "# Draw nodes with different colors for each layer.\n",
    "nx.draw_networkx_nodes(G, pos, nodelist=sensory_nodes, node_color='tab:olive', label='Sensory')\n",
    "nx.draw_networkx_nodes(G, pos, nodelist=inter_nodes,   node_color='tab:blue',   label='Inter')\n",
    "nx.draw_networkx_nodes(G, pos, nodelist=command_nodes, node_color='tab:orange', label='Command')\n",
    "nx.draw_networkx_nodes(G, pos, nodelist=motor_nodes,   node_color='tab:green',  label='Motor')\n",
    "\n",
    "# Draw non-recurrent edges with a gentle curve.\n",
    "nx.draw_networkx_edges(\n",
    "    G, pos,\n",
    "    edgelist=non_recurrent_edges,\n",
    "    arrows=True,\n",
    "    arrowstyle='->',\n",
    "    connectionstyle='arc3, rad=0.2',  # gentle curve\n",
    "    alpha=0.7\n",
    ")\n",
    "\n",
    "# Draw recurrent edges with a more pronounced curve and a different color.\n",
    "nx.draw_networkx_edges(\n",
    "    G, pos,\n",
    "    edgelist=recurrent_edges,\n",
    "    arrows=True,\n",
    "    arrowstyle='->',\n",
    "    connectionstyle='arc3, rad=0.4',  # increased curvature\n",
    "    edge_color='red',\n",
    "    alpha=0.7\n",
    ")\n",
    "\n",
    "# Draw node labels.\n",
    "nx.draw_networkx_labels(G, pos, font_size=8)\n",
    "\n",
    "plt.axis('off')\n",
    "plt.title(\"Lorenz NCP\")\n",
    "plt.legend()\n",
    "plt.tight_layout()\n",
    "plt.show()\n"
   ]
  },
  {
   "cell_type": "code",
   "execution_count": 1040,
   "id": "990f8566-ca89-4139-8ae0-96efb75da261",
   "metadata": {},
   "outputs": [
    {
     "name": "stderr",
     "output_type": "stream",
     "text": [
      "GPU available: True (cuda), used: True\n",
      "TPU available: False, using: 0 TPU cores\n",
      "HPU available: False, using: 0 HPUs\n"
     ]
    }
   ],
   "source": [
    "learn = MultiStepSeqLearner(world_model, lr=1e-2, length = look_ahead)\n",
    "\n",
    "trainer = pl.Trainer(\n",
    "    logger=pl.loggers.CSVLogger(\"log\"),\n",
    "    max_epochs=25,\n",
    "    gradient_clip_val=1,  # Clip gradient to stabilize training\n",
    ")"
   ]
  },
  {
   "cell_type": "code",
   "execution_count": 1041,
   "id": "7f670b9b-7df5-412b-b8b1-e32bd23ce651",
   "metadata": {},
   "outputs": [
    {
     "name": "stdout",
     "output_type": "stream",
     "text": [
      "torch.Size([19992, 3, 3])\n"
     ]
    }
   ],
   "source": [
    "\n",
    "import torch.utils.data as data\n",
    "inputs = torch.tensor(data_x, dtype=torch.float32)\n",
    "outputs = torch.tensor(data_y, dtype=torch.float32).squeeze(axis=1)\n",
    "\n",
    "print(outputs.shape)\n",
    "\n",
    "dataloader = data.DataLoader(\n",
    "    data.TensorDataset(inputs, outputs), batch_size=16, shuffle=True, num_workers=24\n",
    ")"
   ]
  },
  {
   "cell_type": "code",
   "execution_count": 6,
   "id": "febc4952-b58a-4063-b150-510fcd011de5",
   "metadata": {},
   "outputs": [
    {
     "ename": "NameError",
     "evalue": "name 'trainer' is not defined",
     "output_type": "error",
     "traceback": [
      "\u001b[0;31m---------------------------------------------------------------------------\u001b[0m",
      "\u001b[0;31mNameError\u001b[0m                                 Traceback (most recent call last)",
      "Cell \u001b[0;32mIn[6], line 1\u001b[0m\n\u001b[0;32m----> 1\u001b[0m \u001b[43mtrainer\u001b[49m\u001b[38;5;241m.\u001b[39mfit(learn, dataloader)\n",
      "\u001b[0;31mNameError\u001b[0m: name 'trainer' is not defined"
     ]
    }
   ],
   "source": [
    "trainer.fit(learn, dataloader)"
   ]
  },
  {
   "cell_type": "code",
   "execution_count": 1043,
   "id": "29573963-4193-45d2-b768-18e1fdca1b38",
   "metadata": {},
   "outputs": [
    {
     "data": {
      "text/plain": [
       "torch.Size([19992, 5, 3])"
      ]
     },
     "execution_count": 1043,
     "metadata": {},
     "output_type": "execute_result"
    }
   ],
   "source": [
    "inputs.shape"
   ]
  },
  {
   "cell_type": "code",
   "execution_count": 1044,
   "id": "73926ee2-f63f-4034-b68f-12063bc2b1e0",
   "metadata": {},
   "outputs": [],
   "source": [
    "# Save NCPS Network\n",
    "num_s = str(test_samples)\n",
    "PATH = f\"models/NCPS_N{num_s}\"\n",
    "torch.save(world_model.state_dict(), PATH)\n",
    "\n",
    "#with open(PATH + '/adj_mat.npy', 'wb') as f:\n",
    "#    np.save(f, wiring.adjacency_matrix)\n",
    "\n",
    "#with open(PATH + '/sens_mat.npy', 'wb') as f:\n",
    "#    np.save(f, wiring.sensory_adjacency_matrix )\n",
    "\n"
   ]
  },
  {
   "cell_type": "markdown",
   "id": "8f37623b-56ae-471b-a744-21d64ac03a91",
   "metadata": {},
   "source": [
    "# Liquid Network"
   ]
  },
  {
   "cell_type": "code",
   "execution_count": 7,
   "id": "6360f975-0620-4197-8ba4-319556f76c55",
   "metadata": {},
   "outputs": [],
   "source": [
    "# now we have to make them into batches of sequence lengths\n",
    "x = []\n",
    "y = []\n",
    "traj_len = 3\n",
    "look_ahead = 1\n",
    "for i in range(test_samples - traj_len - look_ahead):\n",
    "    x.append(positions[i:i+traj_len])\n",
    "    y.append(positions[i+traj_len:i+traj_len+look_ahead])\n",
    "\n",
    "#print(x, y[0])\n",
    "#print(\" \")\n",
    "#print(x, y[1])\n",
    "data_x = np.stack(x)\n",
    "data_y = np.stack(y)"
   ]
  },
  {
   "cell_type": "code",
   "execution_count": 8,
   "id": "34895648-c866-483a-a6ad-49df64dfb911",
   "metadata": {},
   "outputs": [
    {
     "ename": "NameError",
     "evalue": "name 'in_features' is not defined",
     "output_type": "error",
     "traceback": [
      "\u001b[0;31m---------------------------------------------------------------------------\u001b[0m",
      "\u001b[0;31mNameError\u001b[0m                                 Traceback (most recent call last)",
      "Cell \u001b[0;32mIn[8], line 2\u001b[0m\n\u001b[1;32m      1\u001b[0m \u001b[38;5;66;03m# Alternatively, make just an LTC\u001b[39;00m\n\u001b[0;32m----> 2\u001b[0m world_model \u001b[38;5;241m=\u001b[39m LTC(\u001b[43min_features\u001b[49m, out_features, batch_first\u001b[38;5;241m=\u001b[39m\u001b[38;5;28;01mTrue\u001b[39;00m, return_sequences\u001b[38;5;241m=\u001b[39m\u001b[38;5;28;01mFalse\u001b[39;00m, mixed_memory\u001b[38;5;241m=\u001b[39m\u001b[38;5;28;01mTrue\u001b[39;00m)\n\u001b[1;32m      3\u001b[0m learn \u001b[38;5;241m=\u001b[39m SequenceLearner(world_model, lr\u001b[38;5;241m=\u001b[39m\u001b[38;5;241m1e-2\u001b[39m)\n\u001b[1;32m      5\u001b[0m trainer \u001b[38;5;241m=\u001b[39m pl\u001b[38;5;241m.\u001b[39mTrainer(\n\u001b[1;32m      6\u001b[0m     logger\u001b[38;5;241m=\u001b[39mpl\u001b[38;5;241m.\u001b[39mloggers\u001b[38;5;241m.\u001b[39mCSVLogger(\u001b[38;5;124m\"\u001b[39m\u001b[38;5;124mlog\u001b[39m\u001b[38;5;124m\"\u001b[39m),\n\u001b[1;32m      7\u001b[0m     max_epochs\u001b[38;5;241m=\u001b[39m\u001b[38;5;241m10\u001b[39m,\n\u001b[1;32m      8\u001b[0m     gradient_clip_val\u001b[38;5;241m=\u001b[39m\u001b[38;5;241m1\u001b[39m,  \u001b[38;5;66;03m# Clip gradient to stabilize training\u001b[39;00m\n\u001b[1;32m      9\u001b[0m )\n",
      "\u001b[0;31mNameError\u001b[0m: name 'in_features' is not defined"
     ]
    }
   ],
   "source": [
    "# Alternatively, make just an LTC\n",
    "world_model = LTC(in_features, out_features, batch_first=True, return_sequences=False, mixed_memory=True)\n",
    "learn = SequenceLearner(world_model, lr=1e-2)\n",
    "\n",
    "trainer = pl.Trainer(\n",
    "    logger=pl.loggers.CSVLogger(\"log\"),\n",
    "    max_epochs=10,\n",
    "    gradient_clip_val=1,  # Clip gradient to stabilize training\n",
    ")\n",
    "\n",
    "dataloader = data.DataLoader(\n",
    "    data.TensorDataset(inputs, outputs), batch_size=16, shuffle=True, num_workers=24\n",
    ")\n",
    "trainer.fit(learn, dataloader)"
   ]
  },
  {
   "cell_type": "code",
   "execution_count": null,
   "id": "03fd2a41-c6e2-464a-a8b6-eaf00a556505",
   "metadata": {},
   "outputs": [],
   "source": [
    "num_s = str(test_samples)\n",
    "PATH = f\"models/LTC_N{num_s}\"\n",
    "torch.save(world_model.state_dict(), PATH)"
   ]
  },
  {
   "cell_type": "code",
   "execution_count": null,
   "id": "15ee6cbc-870a-4b74-bc70-c99bafbc37db",
   "metadata": {},
   "outputs": [],
   "source": [
    "x = positions[:test_samples]\n",
    "y = positions[1:test_samples+1]\n",
    "y.shape"
   ]
  },
  {
   "cell_type": "code",
   "execution_count": null,
   "id": "55630818-e9a8-42cc-928a-3c840d76b0bd",
   "metadata": {},
   "outputs": [],
   "source": [
    "# NCPS Residuals\n",
    "x_residuals = []\n",
    "y_residuals = []\n",
    "ang_vel_residuals = []\n",
    "\n",
    "set_of_predictions = []\n",
    "\n",
    "with torch.no_grad():\n",
    "    prediction = world_model(inputs)[0].numpy()\n",
    "print(prediction.shape)\n",
    "# save predictions\n",
    "#print(\"PRED: \", prediction)\n",
    "\n",
    "set_of_predictions.append(prediction)\n",
    "\n",
    "print(y.shape)\n",
    "\n",
    "# get residuals\n",
    "#x_residuals.append(prediction[:, 0] - y[:, 0])\n",
    "#y_residuals.append(prediction[:, 1] - y[:, 1])\n",
    "#ang_vel_residuals.append(prediction[:, 2] - y[:, 2])\n",
    "\n",
    "#NCPS_x_res = np.stack(x_residuals).T\n",
    "#NCPS_y_res = np.stack(y_residuals).T\n",
    "#NCPS_ang_res = np.stack(ang_vel_residuals).T\n"
   ]
  },
  {
   "cell_type": "code",
   "execution_count": null,
   "id": "b91ad6fe-4583-4d60-a010-49945dc2964a",
   "metadata": {},
   "outputs": [],
   "source": [
    "plt.scatter(prediction[:, 0], prediction[:, 1])\n",
    "#set_of_predictions.shape"
   ]
  },
  {
   "cell_type": "code",
   "execution_count": null,
   "id": "c933b172-7064-4af0-b993-c171e285c350",
   "metadata": {},
   "outputs": [],
   "source": [
    "sns.set()\n",
    "plt.scatter(y[:, 0], y[:, 1], alpha=0.5, label=\"real\")\n",
    "plt.scatter(prediction[:, 0], prediction[:, 1], alpha=0.5, color='g', label=\"NCPS, one step\")\n",
    "plt.legend()\n",
    "plt.title(\"NCPS, trained with 5-step look ahead\")"
   ]
  },
  {
   "cell_type": "code",
   "execution_count": null,
   "id": "01fc8e34-0269-48fe-82e4-332c920761b7",
   "metadata": {},
   "outputs": [],
   "source": [
    "plt.scatter(y[:, 1], y[:, 2], alpha=0.5, label=\"real\")\n",
    "plt.scatter(prediction[:, 1], prediction[:, 2], alpha=0.5, color='g', label=\"NCPS, one step\")\n",
    "plt.legend()\n",
    "plt.title(\"NCPS, trained with 5-step look ahead\")"
   ]
  },
  {
   "cell_type": "markdown",
   "id": "c321747f-f770-4eb9-a3cc-acc90e3e6064",
   "metadata": {},
   "source": [
    "For my own sanity, I should start documenting what it is that I'm doing here.\n",
    "\n",
    "In this case, what we have is that upon recieving real inputs with time correspondance to them, we can achieve pretty solid results. Now, I want to see what that our model looks like when we try to achieve more than one step prediction.\n",
    "\n",
    "I see two paths forward here. If we set an arbitrary time window ahead and set our model to be unable to go past that line, then we would expect worse results as opposed to not having a time window at all. The upside then is then we reduce compute time. \n",
    "\n",
    "How much worse results, we can test for. How much worse compute time, probably not."
   ]
  },
  {
   "cell_type": "code",
   "execution_count": null,
   "id": "b56eef71-d9c9-4f60-a023-314a2b6098af",
   "metadata": {},
   "outputs": [],
   "source": [
    "# I'm experimenting with now we stick with a 20-step time-window. See how far into the future we can get.\n",
    "\n",
    "rolling_inputs = inputs[0]\n",
    "\n",
    "window = inputs.shape[1]\n",
    "\n",
    "predictions = []\n",
    "\n",
    "num_predictions = 10_000\n",
    "\n",
    "for i in range(num_predictions):\n",
    "    with torch.no_grad():\n",
    "        prediction = world_model(rolling_inputs)[0]\n",
    "        \n",
    "    predictions.append(prediction)\n",
    "    #prediction = torch.FloatTensor(np.expand_dims(prediction, axis=0))\n",
    "    #print(rolling_inputs.shape[0])\n",
    "    if rolling_inputs.shape[0] > window:\n",
    "        rolling_inputs = torch.concatenate((rolling_inputs[1:window+1], prediction.unsqueeze(0)))\n",
    "    else:\n",
    "         rolling_inputs = torch.concatenate((rolling_inputs, prediction.unsqueeze(0)))\n",
    "\n",
    "    #print(rolling_inputs, \" \", prediction)\n",
    "\n",
    "\n",
    "predictions = torch.stack(predictions)\n",
    "predictions.shape\n"
   ]
  },
  {
   "cell_type": "code",
   "execution_count": null,
   "id": "f907a6a8-eea2-4b60-b86b-b36f037faeb1",
   "metadata": {},
   "outputs": [],
   "source": [
    "plt.scatter(predictions[:, 1], predictions[:, 2], color='g', label=\"NCPS, 100_000 Step\")\n",
    "#plt.scatter(y[3: 3 + num_predictions, 1], y[3: 3 + num_predictions, 2], alpha=0.5, color='b', label=\"real\")\n",
    "plt.legend()\n",
    "plt.title(\"NCPS, trained with 5-step look ahead\")"
   ]
  },
  {
   "cell_type": "code",
   "execution_count": null,
   "id": "f49b7101-5421-4583-a792-f58175c09d06",
   "metadata": {},
   "outputs": [],
   "source": [
    "plt.scatter(predictions[:, 0], predictions[:, 1], color='g', label=\"NCPS, 100_000 Step\")\n",
    "#plt.scatter(y[3: 3 + num_predictions, 1], y[3: 3 + num_predictions, 2], alpha=0.5, color='b', label=\"real\")\n",
    "plt.legend()\n",
    "plt.title(\"NCPS, trained with 5-step look ahead\")"
   ]
  },
  {
   "cell_type": "code",
   "execution_count": null,
   "id": "1fdebe04-f75a-4bea-b0b2-50f1fbc91a08",
   "metadata": {},
   "outputs": [],
   "source": [
    "fig, axes = plt.subplots(nrows=3, ncols=1, figsize=(10, 10))\n",
    "time_steps = np.arange(num_predictions)\n",
    "\n",
    "# Define a function to plot the residuals on a given axis\n",
    "def plot_residuals(ax, res, title):\n",
    "    # Plot all individual rollouts\n",
    "    #for r in range(res.shape[0]):\n",
    "    ax.plot(res, color='blue', alpha=1, linewidth=1)\n",
    "    \n",
    "    # Compute and plot the mean\n",
    "    #mean_rollout = res.mean(axis=0)\n",
    "    #ax.plot(mean_rollout, color='blue', linewidth=2, label='Mean Rollout')\n",
    "    \n",
    "    # Compute and plot ±1 std dev\n",
    "    #std_rollout = res.std(axis=0)\n",
    "    #ax.fill_between(time_steps, mean_rollout - std_rollout, mean_rollout + std_rollout,\n",
    "    #              color='blue', alpha=0.2, label='Mean ± 1 Std. Dev.')\n",
    "    \n",
    "    ax.set_xlabel(\"Time Step\")\n",
    "    ax.set_ylabel(\"Rollout Residual\")\n",
    "    ax.set_title(title)\n",
    "    ax.legend(loc='upper right')\n",
    "\n",
    "# Plot for x_res\n",
    "plot_residuals(axes[0], predictions[:, 0], \"X State Features\")\n",
    "\n",
    "# Plot for y_res\n",
    "plot_residuals(axes[1], predictions[:, 1], \"Y State Features\")\n",
    "\n",
    "# Plot for ang_res\n",
    "plot_residuals(axes[2], predictions[:, 2], \"Z State Features\")\n",
    "\n",
    "plt.tight_layout()\n",
    "plt.show()"
   ]
  },
  {
   "cell_type": "markdown",
   "id": "dabd4356-d970-4c16-94c7-81424893d987",
   "metadata": {},
   "source": [
    "## Save Model"
   ]
  },
  {
   "cell_type": "code",
   "execution_count": null,
   "id": "f2833ad6-6647-43a1-902c-695a3fccc62b",
   "metadata": {},
   "outputs": [],
   "source": [
    "num_s = str(test_samples)\n",
    "PATH = f\"models/LTC_N{num_s}\"\n",
    "torch.save(world_model.state_dict(), PATH)\n",
    "\n",
    "#with open(PATH + '/adj_mat.npy', 'wb') as f:\n",
    "#    np.save(f, wiring.adjacency_matrix)\n",
    "\n",
    "#with open(PATH + '/sens_mat.npy', 'wb') as f:\n",
    "#    np.save(f, wiring.sensory_adjacency_matrix )\n",
    "\n",
    "\n",
    "\n",
    "#wm = LTC(in_features, wiring, batch_first=True, return_sequences=False)"
   ]
  },
  {
   "cell_type": "code",
   "execution_count": null,
   "id": "1395ff71-62e7-49dd-a91f-3891b1de9d12",
   "metadata": {},
   "outputs": [],
   "source": [
    "# test saved model\n",
    "\n",
    "out_features = 3\n",
    "in_features = 3\n",
    "\n",
    "#wiring = AutoNCP(6, out_features)  \n",
    "n_wir = NCP(inter_neurons=6, command_neurons=6, motor_neurons=out_features,\n",
    "             sensory_fanout=4, inter_fanout=4, recurrent_command_synapses=4, motor_fanin=3)\n",
    "\n",
    "num_s = str(test_samples)\n",
    "PATH = f\"models/CFC_state_dict_N{num_s}\"\n",
    "\n",
    "with open(PATH + '/adj_mat.npy', 'rb') as f:\n",
    "    adj = np.load(f)\n",
    "\n",
    "with open(PATH + '/sens_mat.npy', 'rb') as f:\n",
    "    sens = np.load(f)\n",
    "\n",
    "n_wir.adjacency_matrix = adj\n",
    "n_wir.sensory_adjacency_matrix = sens\n",
    "\n",
    "liquid = CfC(in_features, n_wir, batch_first=True, return_sequences=False) # change to cfc, what could go wrong?\n",
    "liquid.load_state_dict(torch.load(PATH+ \"/weights\", weights_only=True))\n",
    "\n",
    "\n"
   ]
  },
  {
   "cell_type": "code",
   "execution_count": null,
   "id": "8a49b2ea-6577-4558-a3b5-2cd3bbfd2824",
   "metadata": {},
   "outputs": [],
   "source": [
    "# NCPS Residuals\n",
    "x_residuals = []\n",
    "y_residuals = []\n",
    "ang_vel_residuals = []\n",
    "\n",
    "set_of_predictions = []\n",
    "\n",
    "with torch.no_grad():\n",
    "    n_prediction = liquid(inputs)[0].numpy()\n",
    "print(prediction.shape)\n",
    "# save predictions\n",
    "#print(\"PRED: \", prediction)\n",
    "\n",
    "set_of_predictions.append(prediction)\n",
    "\n",
    "print(y.shape)\n",
    "\n",
    "# get residuals\n",
    "#x_residuals.append(prediction[:, 0] - y[:, 0])\n",
    "#y_residuals.append(prediction[:, 1] - y[:, 1])\n",
    "#ang_vel_residuals.append(prediction[:, 2] - y[:, 2])\n",
    "\n",
    "#NCPS_x_res = np.stack(x_residuals).T\n",
    "#NCPS_y_res = np.stack(y_residuals).T\n",
    "#NCPS_ang_res = np.stack(ang_vel_residuals).T\n",
    "\n",
    "\n",
    "sns.set()\n",
    "plt.scatter(y[:, 0], y[:, 1], alpha=0.5, label=\"real\")\n",
    "plt.scatter(n_prediction[:, 0], n_prediction[:, 1], alpha=0.5, color='g', label=\"NCPS, one step\")\n",
    "plt.legend()\n",
    "plt.title(\"NCPS, trained with 5-step look ahead\")"
   ]
  },
  {
   "cell_type": "markdown",
   "id": "2ab872ed-34e9-4127-9078-4b08f5b7fe06",
   "metadata": {},
   "source": [
    "# DNN (Residual Connection)"
   ]
  },
  {
   "cell_type": "code",
   "execution_count": null,
   "id": "c283f9f7-357d-4f76-a490-01ffe0291b22",
   "metadata": {},
   "outputs": [],
   "source": [
    "import tensorflow as tf\n",
    "\n",
    "def build_world_model_residual():\n",
    "    xin_s = tf.keras.layers.Input((3,))\n",
    "\n",
    "    xs = tf.keras.layers.Dense(32, activation='swish')(xin_s)\n",
    "    xs = tf.keras.layers.Dense(32, activation='swish')(xs)\n",
    "    xs = tf.keras.layers.Dense(3)(xs)\n",
    "\n",
    "    xout = tf.keras.layers.Add()([xs,xin_s])\n",
    "    return tf.keras.models.Model(xin_s, xout)\n",
    "\n",
    "build_world_model_residual().summary()"
   ]
  },
  {
   "cell_type": "code",
   "execution_count": null,
   "id": "5faabc2f-7660-4f8f-9a69-7d086032d005",
   "metadata": {},
   "outputs": [],
   "source": [
    "world_model_res = build_world_model_residual()\n",
    "world_model_res.compile(loss='mse',optimizer='adam')\n",
    "\n",
    "hist = world_model_res.fit(positions[:-1],\n",
    "                           positions[1:],\n",
    "                           batch_size = 64, epochs = 10, verbose=0)\n",
    "\n",
    "plt.plot(hist.history['loss'],label='train')\n",
    "plt.xlabel('epochs')\n",
    "plt.ylabel('mse')\n",
    "plt.legend()\n",
    "plt.yscale('log')\n",
    "plt.grid(alpha=0.5);\n"
   ]
  },
  {
   "cell_type": "code",
   "execution_count": null,
   "id": "b495f5c2-bd0d-46f4-b85a-80de46d976c2",
   "metadata": {},
   "outputs": [],
   "source": [
    "offsets = [0, 500, 1000, 1500]\n",
    "#positions[offsets]\n",
    "\n",
    "# roll out with random actions\n",
    "# evaluate by length of pendulum and disc\n",
    "_state = np.array(world_model_res.predict(positions[offsets].reshape(4,3))).reshape(4,3)\n",
    "\n",
    "pred_pos = list()\n",
    "for i in range(500):\n",
    "    # random action\n",
    "    _state = np.array(world_model_res(_state.reshape(4,3))).squeeze()\n",
    "    # pend length\n",
    "    pred_pos.append(_state)\n",
    "\n",
    "pred_pos = np.array(pred_pos)\n",
    "\n",
    "pred_pos.shape\n",
    "\n",
    "plt.plot(pred_pos[:,0,0],pred_pos[:,0,1],label='dnn residual prediction')\n",
    "plt.plot(positions[1:501,0],positions[1:501,1],label='target position',c='tab:blue',ls='--')\n",
    "plt.legend()\n",
    "\n",
    "plt.plot(pred_pos[:,1,0],pred_pos[:,1,1],label='dnn residual prediction')\n",
    "plt.plot(positions[501:1001,0],positions[501:1001,1],label='target position',c='tab:orange',ls='--')\n",
    "\n",
    "plt.plot(pred_pos[:,2,0],pred_pos[:,2,1],label='dnn residual prediction')\n",
    "plt.plot(positions[1001:1501,0],positions[1001:1501,1],label='target position',c='tab:green',ls='--')\n",
    "\n",
    "plt.plot(pred_pos[:,3,0],pred_pos[:,3,1],label='dnn residual prediction')\n",
    "plt.plot(positions[1501:2001,0],positions[1501:2001,1],label='target position',c='tab:red',ls='--')\n",
    "plt.xlabel('x position')\n",
    "plt.ylabel('y position')\n",
    "plt.grid(alpha=0.5)\n",
    "plt.title('500 steps forward')"
   ]
  },
  {
   "cell_type": "markdown",
   "id": "5fc30e3d-c3dc-45ca-be1e-8a887f46a7ca",
   "metadata": {},
   "source": [
    "## Save Weights"
   ]
  },
  {
   "cell_type": "code",
   "execution_count": null,
   "id": "23d00403-5c2d-42af-bbbc-21a187e88549",
   "metadata": {},
   "outputs": [],
   "source": [
    "# Save the weights\n",
    "PATH = f\"models/RESNET_state_dict_N{num_s}.weights.h5\"\n",
    "world_model_res.save_weights(PATH)"
   ]
  },
  {
   "cell_type": "markdown",
   "id": "8e4ec5ca-008d-4537-9780-fb5d33a5f94c",
   "metadata": {},
   "source": [
    "# Recurrent Net"
   ]
  },
  {
   "cell_type": "code",
   "execution_count": null,
   "id": "334f0773-9376-4ea8-a5f7-6620a1fad391",
   "metadata": {},
   "outputs": [],
   "source": [
    "class SimpleRNN(nn.Module):\n",
    "    def __init__(self, obs_space_size, action_space_size, hidden_size):\n",
    "        super().__init__()\n",
    "        self.l0 = nn.Sequential(\n",
    "            nn.Linear(obs_space_size + action_space_size, 32),\n",
    "            nn.ReLU()\n",
    "        )\n",
    "        \n",
    "        self.rnn = nn.RNN(32, hidden_size, batch_first=True)\n",
    "\n",
    "        self.l1 = nn.Sequential(\n",
    "            nn.Linear(hidden_size, 32),\n",
    "            nn.ReLU(),\n",
    "            nn.Linear(32, obs_space_size),\n",
    "        )\n",
    "        self.hidden_size = hidden_size\n",
    "\n",
    "    def forward(self, x, h0=None):\n",
    "        if h0 is None:\n",
    "            h0 = torch.zeros(1, x.size(0), self.hidden_size)\n",
    "\n",
    "        out = self.l0(x)\n",
    "        out, ht = self.rnn(out, h0)\n",
    "        out = self.l1(out)\n",
    "        out = out[:, -1, :]\n",
    "        return out, ht"
   ]
  },
  {
   "cell_type": "code",
   "execution_count": null,
   "id": "66a4ce1f-44b8-4323-8316-61b84f23e034",
   "metadata": {},
   "outputs": [],
   "source": [
    "# Instantiate your model\n",
    "# Adjust obs_space_size, action_space_size, hidden_size to match your setup\n",
    "\n",
    "# now we have to make them into batches of sequence lengths\n",
    "x = []\n",
    "y = []\n",
    "traj_len = 5\n",
    "look_ahead = 1\n",
    "for i in range(test_samples - traj_len - look_ahead):\n",
    "    x.append(positions[i:i+traj_len])\n",
    "    y.append(positions[i+traj_len:i+traj_len+look_ahead])\n",
    "\n",
    "#print(x, y[0])\n",
    "#print(\" \")\n",
    "#print(x, y[1])\n",
    "data_x = np.stack(x)\n",
    "data_y = np.stack(y)\n",
    "\n",
    "inputs = torch.tensor(data_x, dtype=torch.float32)\n",
    "outputs = torch.tensor(data_y, dtype=torch.float32).squeeze(axis=1)\n",
    "\n",
    "print(outputs.shape)\n",
    "\n",
    "dataloader = data.DataLoader(\n",
    "    data.TensorDataset(inputs, outputs), batch_size=16, shuffle=True, num_workers=24\n",
    ")\n",
    "\n",
    "obs_space_size = 3\n",
    "action_space_size = 0\n",
    "hidden_size = 16\n",
    "model = SimpleRNN(obs_space_size, action_space_size, hidden_size)\n",
    "\n",
    "# Define loss function and optimizer\n",
    "criterion = nn.MSELoss()\n",
    "optimizer = torch.optim.Adam(model.parameters(), lr=1e-3)\n",
    "\n",
    "# Training loop\n",
    "epochs = 20\n",
    "for epoch in range(epochs):\n",
    "    epoch_loss = 0.0\n",
    "    for batch_X, batch_Y in dataloader:\n",
    "\n",
    "        #print(batch_X.shape, \" \", batch_Y.shape)\n",
    "        \n",
    "        # Reshape inputs/targets to (batch_size, seq_len, features).\n",
    "        # Here we treat each sample as a sequence of length 1.\n",
    "        # If you have a longer sequence, reshape accordingly.\n",
    "        batch_X = batch_X # shape -> [batch_size, 1, input_dim]\n",
    "        batch_Y = batch_Y  # shape -> [batch_size, 1, obs_space_size]\n",
    "\n",
    "        # Reset gradients\n",
    "        optimizer.zero_grad()\n",
    "        \n",
    "        # Forward pass\n",
    "        outputs, _ = model(batch_X)\n",
    "\n",
    "        #print(outputs.shape)\n",
    "        \n",
    "        # Compute loss\n",
    "        loss = criterion(outputs, batch_Y)\n",
    "        \n",
    "        # Backward pass\n",
    "        loss.backward()\n",
    "        optimizer.step()\n",
    "        \n",
    "        epoch_loss += loss.item()\n",
    "    \n",
    "    # Print the average loss over this epoch\n",
    "    avg_loss = epoch_loss / len(dataloader)\n",
    "    print(f\"Epoch [{epoch+1}/{epochs}], Loss: {avg_loss:.5f}\")"
   ]
  },
  {
   "cell_type": "code",
   "execution_count": null,
   "id": "694a9f80-c0b3-40b1-a834-eac9f3dfdcc0",
   "metadata": {},
   "outputs": [],
   "source": [
    "# NCPS Residuals\n",
    "x_residuals = []\n",
    "y_residuals = []\n",
    "ang_vel_residuals = []\n",
    "\n",
    "set_of_predictions = []\n",
    "\n",
    "with torch.no_grad():\n",
    "    prediction = model(inputs)[0].numpy()\n",
    "print(prediction.shape)\n",
    "# save predictions\n",
    "#print(\"PRED: \", prediction)\n",
    "\n",
    "set_of_predictions.append(prediction)\n",
    "\n",
    "print(y.shape)\n",
    "\n",
    "# get residuals\n",
    "#x_residuals.append(prediction[:, 0] - y[:, 0])\n",
    "#y_residuals.append(prediction[:, 1] - y[:, 1])\n",
    "#ang_vel_residuals.append(prediction[:, 2] - y[:, 2])\n",
    "\n",
    "#NCPS_x_res = np.stack(x_residuals).T\n",
    "#NCPS_y_res = np.stack(y_residuals).T\n",
    "#NCPS_ang_res = np.stack(ang_vel_residuals).T\n"
   ]
  },
  {
   "cell_type": "code",
   "execution_count": null,
   "id": "c471802f-2757-4eff-ae7d-5bb37db32871",
   "metadata": {},
   "outputs": [],
   "source": [
    "sns.set()\n",
    "plt.scatter(y[:, 0], y[:, 1], alpha=0.5, label=\"real\")\n",
    "plt.scatter(prediction[:, 0], prediction[:, 1], alpha=0.5, color='g', label=\"NCPS, one step\")\n",
    "plt.legend()\n",
    "plt.title(\"NCPS, trained with 5-step look ahead\")"
   ]
  },
  {
   "cell_type": "markdown",
   "id": "9824a7ba-999c-4470-bb3d-aa144fbff78a",
   "metadata": {},
   "source": [
    "## Save weights"
   ]
  },
  {
   "cell_type": "code",
   "execution_count": null,
   "id": "4cf4f73b-c4b4-434a-a8a8-9f80ec6da09d",
   "metadata": {},
   "outputs": [],
   "source": [
    "num_s = str(test_samples)\n",
    "PATH = f\"models/RNN_state_dict_N{num_s}\"\n",
    "torch.save(model.state_dict(), PATH)"
   ]
  },
  {
   "cell_type": "code",
   "execution_count": null,
   "id": "82455841-6c3a-4356-ad3c-140c0a0e4ceb",
   "metadata": {},
   "outputs": [],
   "source": []
  }
 ],
 "metadata": {
  "kernelspec": {
   "display_name": "Python 3 (ipykernel)",
   "language": "python",
   "name": "python3"
  },
  "language_info": {
   "codemirror_mode": {
    "name": "ipython",
    "version": 3
   },
   "file_extension": ".py",
   "mimetype": "text/x-python",
   "name": "python",
   "nbconvert_exporter": "python",
   "pygments_lexer": "ipython3",
   "version": "3.10.12"
  }
 },
 "nbformat": 4,
 "nbformat_minor": 5
}
