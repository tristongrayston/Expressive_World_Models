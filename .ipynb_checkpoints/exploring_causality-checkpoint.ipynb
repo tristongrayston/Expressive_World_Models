{
 "cells": [
  {
   "cell_type": "code",
   "execution_count": 1,
   "id": "72d9ad5e-7f2a-4756-9180-a38a2d7207ee",
   "metadata": {},
   "outputs": [
    {
     "name": "stderr",
     "output_type": "stream",
     "text": [
      "2025-02-27 10:10:46.411690: I tensorflow/core/util/port.cc:113] oneDNN custom operations are on. You may see slightly different numerical results due to floating-point round-off errors from different computation orders. To turn them off, set the environment variable `TF_ENABLE_ONEDNN_OPTS=0`.\n",
      "2025-02-27 10:10:46.442352: I tensorflow/core/platform/cpu_feature_guard.cc:210] This TensorFlow binary is optimized to use available CPU instructions in performance-critical operations.\n",
      "To enable the following instructions: AVX2 AVX512F AVX512_VNNI AVX512_BF16 FMA, in other operations, rebuild TensorFlow with the appropriate compiler flags.\n",
      "2025-02-27 10:10:47.174970: W tensorflow/compiler/tf2tensorrt/utils/py_utils.cc:38] TF-TRT Warning: Could not find TensorRT\n"
     ]
    }
   ],
   "source": [
    "import torch \n",
    "import tensorflow as tf\n",
    "import torch.nn as nn\n",
    "import numpy as np\n",
    "import gym\n",
    "import matplotlib.pyplot as plt\n",
    "import ncps \n",
    "from ncps.torch import LTC\n",
    "from ncps.torch import CfC\n",
    "from ncps.wirings import AutoNCP\n",
    "import pytorch_lightning as pl\n",
    "import torch.utils.data as data\n",
    "from state_indep_ppo import PPO"
   ]
  },
  {
   "cell_type": "code",
   "execution_count": 2,
   "id": "8f2c0afc-9a23-48da-9f97-959fa3260dbe",
   "metadata": {},
   "outputs": [],
   "source": [
    "# LightningModule for training a RNNSequence module\n",
    "class SequenceLearner(pl.LightningModule):\n",
    "    def __init__(self, model, lr=0.005):\n",
    "        super().__init__()\n",
    "        self.model = model\n",
    "        self.lr = lr\n",
    "\n",
    "    def training_step(self, batch, batch_idx):\n",
    "        x, y = batch\n",
    "        y_hat, _ = self.model.forward(x)\n",
    "        y_hat = y_hat.view_as(y)\n",
    "        loss = nn.MSELoss()(y_hat, y)\n",
    "        self.log(\"train_loss\", loss, prog_bar=True)\n",
    "        return {\"loss\": loss}\n",
    "\n",
    "    def validation_step(self, batch, batch_idx):\n",
    "        x, y = batch\n",
    "        y_hat, _ = self.model.forward(x)\n",
    "        y_hat = y_hat.view_as(y)\n",
    "        loss = nn.MSELoss()(y_hat, y)\n",
    "\n",
    "        self.log(\"val_loss\", loss, prog_bar=True)\n",
    "        return loss\n",
    "\n",
    "    def test_step(self, batch, batch_idx):\n",
    "        # Here we just reuse the validation_step for testing\n",
    "        return self.validation_step(batch, batch_idx)\n",
    "\n",
    "    def configure_optimizers(self):\n",
    "        return torch.optim.Adam(self.model.parameters(), lr=self.lr)"
   ]
  },
  {
   "cell_type": "code",
   "execution_count": 9,
   "id": "21bafcdc-d65c-4942-81a7-6003da5f789e",
   "metadata": {},
   "outputs": [
    {
     "name": "stdout",
     "output_type": "stream",
     "text": [
      "actionspace: 1, obs space 3\n",
      "Learning... Running 200 timesteps per episode, 5 timesteps per batch for a total of 400 rollouts\n"
     ]
    },
    {
     "name": "stderr",
     "output_type": "stream",
     "text": [
      "Rollouts:   0%|                                                                         | 0/400 [00:00<?, ?it/s, loss=0]\n"
     ]
    }
   ],
   "source": [
    "env = gym.make(\"Pendulum-v1\")\n",
    "actionspace = env.action_space.shape[0]\n",
    "obsspace = env.observation_space.shape[0]\n",
    "print(f\"actionspace: {actionspace}, obs space {obsspace}\")\n",
    "rollout_buffer = []\n",
    "agent = PPO(\n",
    "    ob_space=obsspace,\n",
    "    actions=actionspace,\n",
    "    n_batches=10,\n",
    "    gamma=0.95   ,\n",
    "    lam=0.95,\n",
    "    kl_coeff=0.2,\n",
    "    clip_rewards=False,\n",
    "    clip_param=0.2,\n",
    "    vf_clip_param=10.0,\n",
    "    entropy_coeff=0,\n",
    "    a_lr=5e-4,\n",
    "    c_lr=5e-4,\n",
    "    device='cpu',\n",
    "    max_ts=100,\n",
    "\n",
    "    # Any custom kwargs can also be passed in here. For example:\n",
    "    rollouts_per_batch=5,\n",
    "    max_timesteps_per_episode=200,\n",
    "    n_updates_per_iteration=3,\n",
    ")\n",
    "\n",
    "# 3. Train the agent\n",
    "total_timesteps = 2000//5  # Decide how long you want to train\n",
    "rollouts = agent.learn(total_timesteps=total_timesteps, env=env, rollout_buffer= rollout_buffer)"
   ]
  },
  {
   "cell_type": "code",
   "execution_count": 4,
   "id": "8d0fa99d-01a0-4987-b1fa-44784161f380",
   "metadata": {},
   "outputs": [
    {
     "name": "stdout",
     "output_type": "stream",
     "text": [
      "actionspace: 1, obs space 3\n",
      "Learning... Running 200 timesteps per episode, 5 timesteps per batch for a total of 400 rollouts\n"
     ]
    },
    {
     "name": "stderr",
     "output_type": "stream",
     "text": [
      "Rollouts:   0%|                                                                         | 0/400 [00:00<?, ?it/s, loss=0]\n"
     ]
    }
   ],
   "source": [
    "from baseline import train_ppo\n",
    "\n",
    "env_name = \"Pendulum-v1\"\n",
    "agent = train_ppo(env_name)"
   ]
  },
  {
   "cell_type": "code",
   "execution_count": 5,
   "id": "13cd00e0-4a91-418a-94ba-d9fc43b07e6a",
   "metadata": {},
   "outputs": [
    {
     "name": "stdout",
     "output_type": "stream",
     "text": [
      "\n"
     ]
    }
   ],
   "source": [
    "print()"
   ]
  },
  {
   "cell_type": "code",
   "execution_count": null,
   "id": "e7db1fd8-71b5-4586-89eb-78e7b9ccab64",
   "metadata": {},
   "outputs": [],
   "source": []
  }
 ],
 "metadata": {
  "kernelspec": {
   "display_name": "Python 3 (ipykernel)",
   "language": "python",
   "name": "python3"
  },
  "language_info": {
   "codemirror_mode": {
    "name": "ipython",
    "version": 3
   },
   "file_extension": ".py",
   "mimetype": "text/x-python",
   "name": "python",
   "nbconvert_exporter": "python",
   "pygments_lexer": "ipython3",
   "version": "3.10.12"
  }
 },
 "nbformat": 4,
 "nbformat_minor": 5
}
